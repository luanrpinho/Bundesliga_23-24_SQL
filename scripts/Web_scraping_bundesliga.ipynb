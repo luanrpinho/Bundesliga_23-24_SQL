{
  "cells": [
    {
      "cell_type": "code",
      "execution_count": null,
      "metadata": {
        "colab": {
          "base_uri": "https://localhost:8080/"
        },
        "collapsed": true,
        "id": "ZPK3gdL7XFmi",
        "outputId": "f0d61d21-d558-428e-ccb4-6a45c203cc6e",
        "vscode": {
          "languageId": "r"
        }
      },
      "outputs": [],
      "source": [
        "#Instalando os pacotes necessários\n",
        "install.packages(\"rvest\")\n",
        "install.packages(\"tidyverse\")\n",
        "install.packages(\"writexl\")"
      ]
    },
    {
      "cell_type": "code",
      "execution_count": null,
      "metadata": {
        "colab": {
          "base_uri": "https://localhost:8080/"
        },
        "id": "Ep8x1_hYXPq0",
        "outputId": "ffcb06ef-49bb-4ea6-9867-0c8ad401a898",
        "vscode": {
          "languageId": "r"
        }
      },
      "outputs": [],
      "source": [
        "#Carregando as bibliotecas\n",
        "library(rvest)\n",
        "library(tidyverse)\n",
        "library(dplyr)\n",
        "library(writexl)"
      ]
    },
    {
      "cell_type": "code",
      "execution_count": null,
      "metadata": {
        "id": "NeD7Fix-XS4b",
        "vscode": {
          "languageId": "r"
        }
      },
      "outputs": [],
      "source": [
        "#Escolhendo o site que será analisado\n",
        "site <- \"https://fbref.com/pt/comps/20/2023-2024/2023-2024-Bundesliga-estatisticas\""
      ]
    },
    {
      "cell_type": "code",
      "execution_count": null,
      "metadata": {
        "id": "LfsLrw5vbBH6",
        "vscode": {
          "languageId": "r"
        }
      },
      "outputs": [],
      "source": [
        "#Lendo a página no formato HTML\n",
        "pagina <- read_html(site)"
      ]
    },
    {
      "cell_type": "code",
      "execution_count": null,
      "metadata": {
        "id": "1bGa2OXMXSuT",
        "vscode": {
          "languageId": "r"
        }
      },
      "outputs": [],
      "source": [
        "#Extraindo todas as tabelas da página\n",
        "tabelas <- pagina %>%\n",
        "  html_nodes(\"table\") %>%\n",
        "  html_table()"
      ]
    },
    {
      "cell_type": "code",
      "execution_count": null,
      "metadata": {
        "colab": {
          "base_uri": "https://localhost:8080/",
          "height": 1000
        },
        "id": "pgeFjE8abHYS",
        "outputId": "adcad90b-4e09-4c49-fdb6-f9e25215a4ad",
        "vscode": {
          "languageId": "r"
        }
      },
      "outputs": [],
      "source": [
        "#Visualizando todas as tabelas\n",
        "View(tabelas)"
      ]
    },
    {
      "cell_type": "code",
      "execution_count": null,
      "metadata": {
        "id": "SVoZ6OqnpxI0",
        "vscode": {
          "languageId": "r"
        }
      },
      "outputs": [],
      "source": [
        "#Extraindo as tabelas a serem usadas\n",
        "tabela1 <- (tabelas[[1]])\n",
        "tabela2 <- (tabelas[[3]])"
      ]
    },
    {
      "cell_type": "code",
      "execution_count": null,
      "metadata": {
        "colab": {
          "base_uri": "https://localhost:8080/",
          "height": 1000
        },
        "id": "eiKDXg3Ep7_u",
        "outputId": "50868022-228c-4579-e228-74edbe5e5f0d",
        "vscode": {
          "languageId": "r"
        }
      },
      "outputs": [],
      "source": [
        "#Visualizando as tabelas selecionadas\n",
        "View(tabela1)\n",
        "View(tabela2)"
      ]
    },
    {
      "cell_type": "code",
      "execution_count": null,
      "metadata": {
        "id": "bZs29cEz6Y_w",
        "vscode": {
          "languageId": "r"
        }
      },
      "outputs": [],
      "source": [
        "#Excluindo o cabeçalho nulo e corrigindo os dados\n",
        "colnames(tabela2) <- tabela2[1, ]"
      ]
    },
    {
      "cell_type": "code",
      "execution_count": null,
      "metadata": {
        "id": "_tDMIRs31PYM",
        "vscode": {
          "languageId": "r"
        }
      },
      "outputs": [],
      "source": [
        "#Novo cabeçalho\n",
        "tabela2 <-  tabela2[-1,]"
      ]
    },
    {
      "cell_type": "code",
      "execution_count": null,
      "metadata": {
        "id": "wSDMLbWB1Peb",
        "vscode": {
          "languageId": "r"
        }
      },
      "outputs": [],
      "source": [
        "#Selecionando as colunas necessárias para análise\n",
        "tabela2 <- tabela2 %>%\n",
        "  select(Equipe, '# J',Idade, Posse, CrtsA, CrtV)"
      ]
    },
    {
      "cell_type": "code",
      "execution_count": null,
      "metadata": {
        "id": "3oX5f8ee91cE",
        "vscode": {
          "languageId": "r"
        }
      },
      "outputs": [],
      "source": [
        "# @title\n",
        "#Juntando as duas tabelas baseadas nos nomes das equipes\n",
        "bundesliga <- inner_join(tabela1, tabela2, by = \"Equipe\")"
      ]
    },
    {
      "cell_type": "code",
      "execution_count": null,
      "metadata": {
        "id": "SD8-Xbj191vl",
        "vscode": {
          "languageId": "r"
        }
      },
      "outputs": [],
      "source": [
        "#Removendo colunas desnecessárias\n",
        "bundesliga <- bundesliga %>%\n",
        "  select(-c('Artilheiro da equipe', Goleiro))"
      ]
    },
    {
      "cell_type": "code",
      "execution_count": null,
      "metadata": {
        "id": "gDdYV8uf0qpX",
        "vscode": {
          "languageId": "r"
        }
      },
      "outputs": [],
      "source": [
        "#Renomeando colunas\n",
        "bundesliga <- bundesliga %>%\n",
        "  rename(\n",
        "    PtsPPJ = `Pts/PPJ`,\n",
        "    xGD90 = `xGD/90`,\n",
        "    Publico = 'Público',\n",
        "    NrJogadores = '# J',\n",
        "    MediaIdade = Idade,\n",
        "    PosseBola = Posse,\n",
        "    CrtsV = CrtV,\n",
        "    )"
      ]
    },
    {
      "cell_type": "code",
      "execution_count": null,
      "metadata": {
        "id": "J59vIXYfk8hB",
        "vscode": {
          "languageId": "r"
        }
      },
      "outputs": [],
      "source": [
        "#Convertendo colunas específicas para o formato numérico\n",
        "bundesliga$`PtsPPJ` <- as.numeric(gsub(\",\",\".\",bundesliga$`PtsPPJ`))\n",
        "bundesliga$xG <- as.numeric(bundesliga$xG)\n",
        "bundesliga$xGA <- as.numeric(bundesliga$xGA)\n",
        "bundesliga$xGD <- as.numeric(bundesliga$xGD)\n",
        "bundesliga$`xGD90` <- as.numeric(gsub(\",\",\".\",bundesliga$`xGD90`))\n",
        "bundesliga$NrJogadores <- as.integer(bundesliga$NrJogadores)\n",
        "bundesliga$MediaIdade <- as.numeric(gsub(\",\",\".\",bundesliga$MediaIdade))\n",
        "bundesliga$PosseBola <- as.numeric(gsub(\",\",\".\",bundesliga$PosseBola))\n",
        "bundesliga$CrtsA <- as.integer(bundesliga$CrtsA)\n",
        "bundesliga$CrtsV <- as.integer(bundesliga$CrtsV)"
      ]
    },
    {
      "cell_type": "code",
      "execution_count": null,
      "metadata": {
        "id": "ev1osasBKeAd",
        "vscode": {
          "languageId": "r"
        }
      },
      "outputs": [],
      "source": [
        "#Organizando as colunas\n",
        "bundesliga <- bundesliga %>%\n",
        "  select(-Publico, -Notas, everything(), Publico, Notas)"
      ]
    },
    {
      "cell_type": "code",
      "execution_count": null,
      "metadata": {
        "colab": {
          "base_uri": "https://localhost:8080/",
          "height": 1000
        },
        "id": "W50W_gDbKeG9",
        "outputId": "f302e846-38cc-4b28-c95c-a6cc260bd898",
        "vscode": {
          "languageId": "r"
        }
      },
      "outputs": [],
      "source": [
        "#Vizualizando o resultado\n",
        "View(bundesliga)"
      ]
    },
    {
      "cell_type": "code",
      "execution_count": null,
      "metadata": {
        "id": "OBjpsj6l3oQJ",
        "vscode": {
          "languageId": "r"
        }
      },
      "outputs": [],
      "source": [
        "#Nome do arquivo que será convertido para o formato xlsx\n",
        "bundesliga_xlsx <- \"bundesliga.xlsx\""
      ]
    },
    {
      "cell_type": "code",
      "execution_count": null,
      "metadata": {
        "id": "zgCUMxUF3oXH",
        "vscode": {
          "languageId": "r"
        }
      },
      "outputs": [],
      "source": [
        "#Adicionando os dados ao arquivo xlsx\n",
        "write_xlsx(bundesliga, bundesliga_xlsx)"
      ]
    }
  ],
  "metadata": {
    "colab": {
      "provenance": []
    },
    "kernelspec": {
      "display_name": "R",
      "name": "ir"
    },
    "language_info": {
      "name": "R"
    }
  },
  "nbformat": 4,
  "nbformat_minor": 0
}
